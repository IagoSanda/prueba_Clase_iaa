{
 "cells": [
  {
   "cell_type": "markdown",
   "metadata": {
    "button": false,
    "deletable": true,
    "new_sheet": false,
    "run_control": {
     "read_only": false
    }
   },
   "source": [
    "<div style=\"margin-bottom: 120px;\">\n",
    "    <div style=\"float:left;\">\n",
    "        <br/>\n",
    "        <img src=\"img/udc.png\" width=\"300\"/>\n",
    "    </div>\n",
    "</div>\n",
    "\n",
    "<h1 style=\"color: #d60e8c; text-align:center;\">Clasificación supervisada</h1>"
   ]
  },
  {
   "cell_type": "markdown",
   "metadata": {},
   "source": [
    "<h1>Contenidos</h1>\n",
    "\n",
    "<div class=\"alert alert-block alert-info\" \n",
    "     style=\"margin-top: 20px; padding-top:0px; padding-bottom:0px;border: 1px solid #d60e8c; border-radius: 20px; background:transparent;\">\n",
    "    <ol>\n",
    "        <li><a href=\"#intro\">Introducción</a></li>\n",
    "        <li><a href=\"#about_dataset\">El conjunto de datos</a></li>\n",
    "        <li><a href=\"#visualization_analysis\">Visualización de datos y análisis</a></li>\n",
    "        <li><a href=\"#classification\">Clasificación</a></li>\n",
    "        <li><a href=\"#exercises\">Ejercicios</a></li>\n",
    "        <li><a href=\"#save_load\">Guardar y cargar un modelo entrenado</a></li>\n",
    "        <li><a href=\"#exercise_decision_trees\">Ejercicios</a></li>\n",
    "    </ol>\n",
    "</div>"
   ]
  },
  {
   "cell_type": "markdown",
   "metadata": {},
   "source": [
    "<a name=\"intro\"></a>\n",
    "# <font style=\"color:#d60e8c;\">Introducción</font>\n",
    "<hr style=\"border: 0.5px solid #d60e8c;\">"
   ]
  },
  {
   "cell_type": "markdown",
   "metadata": {
    "button": false,
    "deletable": true,
    "new_sheet": false,
    "run_control": {
     "read_only": false
    }
   },
   "source": [
    "En esta práctica aplicaremos los algoritmos para clasificación supervisada **K-Nearest Neighbors** y **SVM** sobre un mismo conjunto de datos. Y, al finalizar, realizarás una clasificación utilizando árboles de decisión."
   ]
  },
  {
   "cell_type": "markdown",
   "metadata": {
    "button": false,
    "deletable": true,
    "new_sheet": false,
    "run_control": {
     "read_only": false
    }
   },
   "source": [
    "## Importamos las librerías\n",
    "\n",
    "Comenzamos importando las librerías que utilizaremos:"
   ]
  },
  {
   "cell_type": "code",
   "execution_count": 100,
   "metadata": {
    "button": false,
    "deletable": true,
    "new_sheet": false,
    "run_control": {
     "read_only": false
    }
   },
   "outputs": [],
   "source": [
    "import matplotlib.pyplot as plt\n",
    "import pandas as pd\n",
    "import numpy as np\n",
    "import time\n",
    "\n",
    "from sklearn.model_selection import train_test_split\n",
    "from sklearn.metrics import confusion_matrix, ConfusionMatrixDisplay\n",
    "from sklearn.neighbors import KNeighborsClassifier\n",
    "from sklearn import svm"
   ]
  },
  {
   "cell_type": "markdown",
   "metadata": {
    "button": false,
    "deletable": true,
    "new_sheet": false,
    "run_control": {
     "read_only": false
    }
   },
   "source": [
    "<a name=\"about_dataset\"></a>\n",
    "# <font style=\"color:#d60e8c;\">El conjunto de datos </font>\n",
    "<hr style=\"border: 0.5px solid #d60e8c;\">"
   ]
  },
  {
   "cell_type": "markdown",
   "metadata": {
    "button": false,
    "deletable": true,
    "new_sheet": false,
    "run_control": {
     "read_only": false
    }
   },
   "source": [
    "El conjunto de datos consiste en registros de muestras de células humanas, cada uno de los cuales contiene los valores de un conjunto de características celulares. Los campos de cada registro son:\n",
    "\n",
    "<ul>\n",
    "    <li><b>ID</b>: Identificador del paciente</li>\n",
    "    <li><b>Clump</b>: Espesor</li>\n",
    "    <li><b>UnifSiz</b>: Uniformidad del tamaño de las células</li>\n",
    "    <li><b>Uniforme</b>: Uniformidad de la forma de la célula</li>\n",
    "    <li><b>MargAdh</b>: Adhesión marginal</li>\n",
    "    <li><b>SingEpiSize</b>: Tamaño de una sola célula epitelial</li>\n",
    "    <li><b>BareNuc</b>: Núcleos desnudos</li>\n",
    "    <li><b>BlandChrom</b>: Cromatina blanda</li>\n",
    "    <li><b>NormNucl</b>: Núcleos normales</li>\n",
    "    <li><b>Mit</b>: Mitosis</li>\n",
    "    <li><b>Class</b>: Benigno o maligno</li>\n",
    "</ul>\n",
    "\n",
    "El campo __ID__ contiene los identificadores de los pacientes. Los campos __desde Clump hasta Mit__, son las caractererísticas de las celdas, con valores enteros con rangos desde 1 hasta 10, donde 1 es el valor más cercarno a benigno. \n",
    "\n",
    "El campo __Class__ contiene el diagnóstico, confirmado con procedimientos médicos e indica si las muestras son benignas (valor=2) o malignas (valor=4).\n",
    "\n",
    "El objetivo es construir un clasificador, para predecir si una muestra desconocida es benigna o maligna. "
   ]
  },
  {
   "cell_type": "markdown",
   "metadata": {
    "button": false,
    "deletable": true,
    "new_sheet": false,
    "run_control": {
     "read_only": false
    }
   },
   "source": [
    "## Carga de datos desde un archivo CSV"
   ]
  },
  {
   "cell_type": "code",
   "execution_count": 101,
   "metadata": {
    "button": false,
    "deletable": true,
    "new_sheet": false,
    "run_control": {
     "read_only": false
    }
   },
   "outputs": [
    {
     "data": {
      "text/html": [
       "<div>\n",
       "<style scoped>\n",
       "    .dataframe tbody tr th:only-of-type {\n",
       "        vertical-align: middle;\n",
       "    }\n",
       "\n",
       "    .dataframe tbody tr th {\n",
       "        vertical-align: top;\n",
       "    }\n",
       "\n",
       "    .dataframe thead th {\n",
       "        text-align: right;\n",
       "    }\n",
       "</style>\n",
       "<table border=\"1\" class=\"dataframe\">\n",
       "  <thead>\n",
       "    <tr style=\"text-align: right;\">\n",
       "      <th></th>\n",
       "      <th>ID</th>\n",
       "      <th>Clump</th>\n",
       "      <th>UnifSize</th>\n",
       "      <th>UnifShape</th>\n",
       "      <th>MargAdh</th>\n",
       "      <th>SingEpiSize</th>\n",
       "      <th>BareNuc</th>\n",
       "      <th>BlandChrom</th>\n",
       "      <th>NormNucl</th>\n",
       "      <th>Mit</th>\n",
       "      <th>Class</th>\n",
       "    </tr>\n",
       "  </thead>\n",
       "  <tbody>\n",
       "    <tr>\n",
       "      <th>0</th>\n",
       "      <td>1000025</td>\n",
       "      <td>5</td>\n",
       "      <td>1</td>\n",
       "      <td>1</td>\n",
       "      <td>1</td>\n",
       "      <td>2</td>\n",
       "      <td>1</td>\n",
       "      <td>3</td>\n",
       "      <td>1</td>\n",
       "      <td>1</td>\n",
       "      <td>2</td>\n",
       "    </tr>\n",
       "    <tr>\n",
       "      <th>1</th>\n",
       "      <td>1002945</td>\n",
       "      <td>5</td>\n",
       "      <td>4</td>\n",
       "      <td>4</td>\n",
       "      <td>5</td>\n",
       "      <td>7</td>\n",
       "      <td>10</td>\n",
       "      <td>3</td>\n",
       "      <td>2</td>\n",
       "      <td>1</td>\n",
       "      <td>2</td>\n",
       "    </tr>\n",
       "    <tr>\n",
       "      <th>2</th>\n",
       "      <td>1015425</td>\n",
       "      <td>3</td>\n",
       "      <td>1</td>\n",
       "      <td>1</td>\n",
       "      <td>1</td>\n",
       "      <td>2</td>\n",
       "      <td>2</td>\n",
       "      <td>3</td>\n",
       "      <td>1</td>\n",
       "      <td>1</td>\n",
       "      <td>2</td>\n",
       "    </tr>\n",
       "    <tr>\n",
       "      <th>3</th>\n",
       "      <td>1016277</td>\n",
       "      <td>6</td>\n",
       "      <td>8</td>\n",
       "      <td>8</td>\n",
       "      <td>1</td>\n",
       "      <td>3</td>\n",
       "      <td>4</td>\n",
       "      <td>3</td>\n",
       "      <td>7</td>\n",
       "      <td>1</td>\n",
       "      <td>2</td>\n",
       "    </tr>\n",
       "    <tr>\n",
       "      <th>4</th>\n",
       "      <td>1017023</td>\n",
       "      <td>4</td>\n",
       "      <td>1</td>\n",
       "      <td>1</td>\n",
       "      <td>3</td>\n",
       "      <td>2</td>\n",
       "      <td>1</td>\n",
       "      <td>3</td>\n",
       "      <td>1</td>\n",
       "      <td>1</td>\n",
       "      <td>2</td>\n",
       "    </tr>\n",
       "  </tbody>\n",
       "</table>\n",
       "</div>"
      ],
      "text/plain": [
       "        ID  Clump  UnifSize  UnifShape  MargAdh  SingEpiSize  BareNuc  \\\n",
       "0  1000025      5         1          1        1            2        1   \n",
       "1  1002945      5         4          4        5            7       10   \n",
       "2  1015425      3         1          1        1            2        2   \n",
       "3  1016277      6         8          8        1            3        4   \n",
       "4  1017023      4         1          1        3            2        1   \n",
       "\n",
       "   BlandChrom  NormNucl  Mit  Class  \n",
       "0           3         1    1      2  \n",
       "1           3         2    1      2  \n",
       "2           3         1    1      2  \n",
       "3           3         7    1      2  \n",
       "4           3         1    1      2  "
      ]
     },
     "execution_count": 101,
     "metadata": {},
     "output_type": "execute_result"
    }
   ],
   "source": [
    "df = pd.read_csv('cell_samples.csv', sep=\";\")\n",
    "df.head()"
   ]
  },
  {
   "cell_type": "markdown",
   "metadata": {
    "button": false,
    "deletable": true,
    "new_sheet": false,
    "run_control": {
     "read_only": false
    }
   },
   "source": [
    "<a name=\"visualization_analysis\"></a>\n",
    "# <font style=\"color:#d60e8c;\">Visualización y análisis de los datos </font>\n",
    "<hr style=\"border: 0.5px solid #d60e8c;\">\n"
   ]
  },
  {
   "cell_type": "markdown",
   "metadata": {
    "button": false,
    "deletable": true,
    "new_sheet": false,
    "run_control": {
     "read_only": false
    }
   },
   "source": [
    "#### Veamos cuantos elementos tiene nuestro conjunto de datos"
   ]
  },
  {
   "cell_type": "code",
   "execution_count": 102,
   "metadata": {},
   "outputs": [
    {
     "data": {
      "text/plain": [
       "(683, 11)"
      ]
     },
     "execution_count": 102,
     "metadata": {},
     "output_type": "execute_result"
    }
   ],
   "source": [
    "df.shape"
   ]
  },
  {
   "cell_type": "markdown",
   "metadata": {},
   "source": [
    "#### Veamos cuantos elementos de cada clase tenemos"
   ]
  },
  {
   "cell_type": "code",
   "execution_count": 103,
   "metadata": {
    "button": false,
    "deletable": true,
    "new_sheet": false,
    "run_control": {
     "read_only": false
    }
   },
   "outputs": [
    {
     "data": {
      "text/plain": [
       "2    444\n",
       "4    239\n",
       "Name: Class, dtype: int64"
      ]
     },
     "execution_count": 103,
     "metadata": {},
     "output_type": "execute_result"
    }
   ],
   "source": [
    "df['Class'].value_counts()"
   ]
  },
  {
   "cell_type": "markdown",
   "metadata": {
    "button": false,
    "deletable": true,
    "new_sheet": false,
    "run_control": {
     "read_only": false
    }
   },
   "source": [
    "Veamos los atributos que caracterizan nuestro conjunto de datos:"
   ]
  },
  {
   "cell_type": "code",
   "execution_count": 104,
   "metadata": {},
   "outputs": [
    {
     "data": {
      "text/plain": [
       "Index(['ID', 'Clump', 'UnifSize', 'UnifShape', 'MargAdh', 'SingEpiSize',\n",
       "       'BareNuc', 'BlandChrom', 'NormNucl', 'Mit', 'Class'],\n",
       "      dtype='object')"
      ]
     },
     "execution_count": 104,
     "metadata": {},
     "output_type": "execute_result"
    }
   ],
   "source": [
    "df.columns"
   ]
  },
  {
   "cell_type": "markdown",
   "metadata": {
    "button": false,
    "deletable": true,
    "new_sheet": false,
    "run_control": {
     "read_only": false
    }
   },
   "source": [
    "## Datos de entrada y clases"
   ]
  },
  {
   "cell_type": "markdown",
   "metadata": {},
   "source": [
    "Para aplicar los algoritmos de la librería <b>scikit-learn</b>, podemos convertir nuestro <b>DataFrame de Pandas</b> a dos <b>array de NumPy</b>, uno para las entradas y otro para las clases (aunque se pueden utilizar también directamente los tipos de datos de Pandas)."
   ]
  },
  {
   "cell_type": "markdown",
   "metadata": {},
   "source": [
    "Seleccionamos las columnas que utilizaremos como entradas:"
   ]
  },
  {
   "cell_type": "code",
   "execution_count": 105,
   "metadata": {
    "button": false,
    "deletable": true,
    "new_sheet": false,
    "run_control": {
     "read_only": false
    }
   },
   "outputs": [],
   "source": [
    "feature_df = df[df.columns[1:df.shape[1]-1]]"
   ]
  },
  {
   "cell_type": "code",
   "execution_count": 106,
   "metadata": {
    "button": false,
    "deletable": true,
    "new_sheet": false,
    "run_control": {
     "read_only": false
    }
   },
   "outputs": [
    {
     "data": {
      "text/plain": [
       "array([[ 5,  1,  1,  1,  2,  1,  3,  1,  1],\n",
       "       [ 5,  4,  4,  5,  7, 10,  3,  2,  1],\n",
       "       [ 3,  1,  1,  1,  2,  2,  3,  1,  1],\n",
       "       [ 6,  8,  8,  1,  3,  4,  3,  7,  1],\n",
       "       [ 4,  1,  1,  3,  2,  1,  3,  1,  1]], dtype=int64)"
      ]
     },
     "execution_count": 106,
     "metadata": {},
     "output_type": "execute_result"
    }
   ],
   "source": [
    "# Usando DataFrame Pandas\n",
    "#X = feature_df\n",
    "\n",
    "# Usando array NumPy\n",
    "X = np.asarray(feature_df)\n",
    "X[0:5] # solo para inspeccionar una muestra de X"
   ]
  },
  {
   "cell_type": "markdown",
   "metadata": {
    "button": false,
    "deletable": true,
    "new_sheet": false,
    "run_control": {
     "read_only": false
    }
   },
   "source": [
    "Y ahora las clases:"
   ]
  },
  {
   "cell_type": "code",
   "execution_count": 107,
   "metadata": {
    "button": false,
    "deletable": true,
    "new_sheet": false,
    "run_control": {
     "read_only": false
    }
   },
   "outputs": [
    {
     "data": {
      "text/plain": [
       "array([2, 2, 2, 2, 2], dtype=int64)"
      ]
     },
     "execution_count": 107,
     "metadata": {},
     "output_type": "execute_result"
    }
   ],
   "source": [
    "# Usando DataFrame Pandas\n",
    "#y = df['Class']\n",
    "\n",
    "# Usando array NumPy\n",
    "y = np.asarray(df['Class'])\n",
    "y[0:5] # solo para inspeccionar una muestra de y"
   ]
  },
  {
   "cell_type": "markdown",
   "metadata": {
    "button": false,
    "deletable": true,
    "new_sheet": false,
    "run_control": {
     "read_only": false
    }
   },
   "source": [
    "## División en datos de entrenamiento y prueba\n",
    "\n",
    "La exactitud del algoritmo es el porcentaje de predicciones correctas que el modelo hace sobre datos en los que NO ha sido entrenado. \n",
    "\n",
    "Realizar el entrenamiento y las pruebas en el mismo conjunto de datos haría que los resultados fuesen muy buenos dentro del conjunto de pruebas pero probablemente malo fuera de ese conjunto de datos, ya que estaría \"sobreajustado\" a ese conjunto de datos.\n",
    "\n",
    "<b>Es importante que nuestros modelos tengan una alta exactitud fuera de muestra, porque el propósito de cualquier modelo es hacer predicciones correctas sobre datos desconocidos</b>. Entonces, ¿cómo podemos mejorar la exactitud fuera de muestra? Una forma es utilizar un enfoque de evaluación llamado <b>división entrenamiento/pruebas</b>.\n",
    "\n",
    "<b>La división de entrenamiento/pruebas implica la división del conjunto de datos en conjuntos de entrenamiento y pruebas respectivamente, que son mutuamente excluyentes</b>. Después de lo cual, se entrena con el conjunto de entrenamiento y se prueba con el conjunto de pruebas.\n",
    "\n",
    "Esto proporcionará una evaluación más precisa de la exactitud de las muestras porque el conjunto de datos de prueba no forma parte del conjunto de datos que se han utilizado para entrenar los datos. Es más realista para los problemas del mundo real.\n",
    "\n",
    "<br><br>\n",
    "El siguiente código, utiliza el 80% del conjunto de datos para entrenar el modelo y el 20% para test."
   ]
  },
  {
   "cell_type": "code",
   "execution_count": 108,
   "metadata": {
    "button": false,
    "deletable": true,
    "new_sheet": false,
    "run_control": {
     "read_only": false
    }
   },
   "outputs": [
    {
     "name": "stdout",
     "output_type": "stream",
     "text": [
      "Train set: (546, 9) (546,)\n",
      "Test set: (137, 9) (137,)\n"
     ]
    }
   ],
   "source": [
    "X_train, X_test, y_train, y_test = train_test_split( X, y, test_size=0.2, random_state=4)\n",
    "print ('Train set:', X_train.shape,  y_train.shape)\n",
    "print ('Test set:', X_test.shape,  y_test.shape)"
   ]
  },
  {
   "cell_type": "markdown",
   "metadata": {
    "button": false,
    "deletable": true,
    "new_sheet": false,
    "run_control": {
     "read_only": false
    }
   },
   "source": [
    "<a name=\"classification\"></a>\n",
    "# <font style=\"color:#d60e8c;\">Clasificación</font>\n",
    "<hr style=\"border: 0.5px solid #d60e8c;\">"
   ]
  },
  {
   "cell_type": "markdown",
   "metadata": {
    "button": false,
    "deletable": true,
    "new_sheet": false,
    "run_control": {
     "read_only": false
    }
   },
   "source": [
    "## Entrenamiento"
   ]
  },
  {
   "cell_type": "markdown",
   "metadata": {
    "tags": []
   },
   "source": [
    "### KNN\n",
    "\n",
    "Utilizaremos el algoritmo <code>KNeighborsClassifier</code> de <b>scikit-learn</b> (<a href=\"https://scikit-learn.org/stable/modules/generated/sklearn.neighbors.KNeighborsClassifier.html?highlight=kneighborsclassifier#sklearn.neighbors.KNeighborsClassifier\">documentación del algoritmo</a>).\n",
    "\n"
   ]
  },
  {
   "cell_type": "code",
   "execution_count": 109,
   "metadata": {
    "button": false,
    "deletable": true,
    "new_sheet": false,
    "run_control": {
     "read_only": false
    }
   },
   "outputs": [
    {
     "name": "stdout",
     "output_type": "stream",
     "text": [
      "Tiempo entrenamiento = 3.988 ms\n"
     ]
    }
   ],
   "source": [
    "k = 4\n",
    "\n",
    "# Creamos nuestra instancia del modelo\n",
    "neigh = KNeighborsClassifier(n_neighbors = k)\n",
    "\n",
    "ini = time.time() \n",
    "#Entrenamiento del modelo, llamando a su método fit \n",
    "neigh.fit(X_train,y_train)\n",
    "print(f\"Tiempo entrenamiento = {(time.time() - ini)*1000:.3f} ms\") "
   ]
  },
  {
   "cell_type": "markdown",
   "metadata": {},
   "source": [
    "### SVM\n",
    "\n",
    "Utilizaremos el algoritmo <code>SVC</code> de <b>scikit-learn</b> (<a href=\"https://scikit-learn.org/stable/modules/generated/sklearn.svm.SVC.html#sklearn.svm.SVC\">documentación del algoritmo</a>). Es el algoritmo implementado en <b>scikit-learn</b> para clasificación de <code>SVM</code>."
   ]
  },
  {
   "cell_type": "code",
   "execution_count": 110,
   "metadata": {},
   "outputs": [
    {
     "name": "stdout",
     "output_type": "stream",
     "text": [
      "Tiempo entrenamiento = 5.982 ms\n"
     ]
    }
   ],
   "source": [
    "# Creamos nuestra instancia del modelo\n",
    "clf_svm = svm.SVC(kernel='linear')\n",
    "\n",
    "ini = time.time() \n",
    "#Entrenamiento del modelo, llamando a su método fit \n",
    "clf_svm.fit(X_train, y_train) \n",
    "print(f\"Tiempo entrenamiento = {(time.time() - ini)*1000:.3f} ms\") "
   ]
  },
  {
   "cell_type": "markdown",
   "metadata": {
    "button": false,
    "deletable": true,
    "new_sheet": false,
    "run_control": {
     "read_only": false
    }
   },
   "source": [
    "## Predicción\n",
    "Ahora podemos utilizar nuestro modelo entrenado para realizar predicciones, para ello llamamos al método <code>predict</code> con el conjunto de valores que hemos reservado para test:"
   ]
  },
  {
   "cell_type": "markdown",
   "metadata": {},
   "source": [
    "### k-NN"
   ]
  },
  {
   "cell_type": "code",
   "execution_count": 111,
   "metadata": {
    "button": false,
    "deletable": true,
    "new_sheet": false,
    "run_control": {
     "read_only": false
    }
   },
   "outputs": [
    {
     "name": "stdout",
     "output_type": "stream",
     "text": [
      "Tiempo de predicción = 12.965 ms\n"
     ]
    },
    {
     "data": {
      "text/plain": [
       "array([2, 4, 2, 4, 2], dtype=int64)"
      ]
     },
     "execution_count": 111,
     "metadata": {},
     "output_type": "execute_result"
    }
   ],
   "source": [
    "ini = time.time() \n",
    "y_predict_knn = neigh.predict(X_test)\n",
    "print(f\"Tiempo de predicción = {(time.time() - ini)*1000:.3f} ms\") \n",
    "\n",
    "y_predict_knn[0:5] # muestra del resultado de la predicción"
   ]
  },
  {
   "cell_type": "markdown",
   "metadata": {},
   "source": [
    "### SVM"
   ]
  },
  {
   "cell_type": "code",
   "execution_count": 112,
   "metadata": {},
   "outputs": [
    {
     "name": "stdout",
     "output_type": "stream",
     "text": [
      "Tiempo de predicción = 0.997 ms\n"
     ]
    },
    {
     "data": {
      "text/plain": [
       "array([2, 4, 2, 4, 2], dtype=int64)"
      ]
     },
     "execution_count": 112,
     "metadata": {},
     "output_type": "execute_result"
    }
   ],
   "source": [
    "ini = time.time() \n",
    "y_predict_svm = clf_svm.predict(X_test)\n",
    "print(f\"Tiempo de predicción = {(time.time() - ini)*1000:.3f} ms\") \n",
    "\n",
    "y_predict_svm [0:5] # muestra del resultado de la predicción"
   ]
  },
  {
   "cell_type": "markdown",
   "metadata": {
    "button": false,
    "deletable": true,
    "new_sheet": false,
    "run_control": {
     "read_only": false
    }
   },
   "source": [
    "## Evaluación de la predicción\n",
    "\n",
    "Aunque trataremos en detalle la evaluación de resultados en la clase de evaluación de resultados, en esta práctica utilizaremos la función <code>score</code> incluida en los clasificadores que hemos utilizado, que devuelve la exactitud media de la predicción y mostraremos la matriz de confunsión de forma gráfica, porque nos permite ver de forma sencilla los elementos que los algoritmos han clasificado correcta e incorrectamente."
   ]
  },
  {
   "cell_type": "markdown",
   "metadata": {},
   "source": [
    "### Exactitud"
   ]
  },
  {
   "cell_type": "code",
   "execution_count": 113,
   "metadata": {},
   "outputs": [
    {
     "name": "stdout",
     "output_type": "stream",
     "text": [
      "Exactitud media obtenida con k-NN:  0.9708029197080292\n"
     ]
    }
   ],
   "source": [
    "print(\"Exactitud media obtenida con k-NN: \", neigh.score(X_test, y_test))"
   ]
  },
  {
   "cell_type": "code",
   "execution_count": 114,
   "metadata": {},
   "outputs": [
    {
     "name": "stdout",
     "output_type": "stream",
     "text": [
      "Exactitud media obtenida con SVM:  0.9635036496350365\n"
     ]
    }
   ],
   "source": [
    "print(\"Exactitud media obtenida con SVM: \", clf_svm.score(X_test, y_test))"
   ]
  },
  {
   "cell_type": "markdown",
   "metadata": {},
   "source": [
    "### Matriz de confusión\n",
    "\n",
    "Veremos con detalle las matrices de confusión en la clase de evaluación de los resultados, pero la mostramos aquí porque esta gráfica nos permite ver fácilmente el número elemetos que los algoritmos han clasificado correcta e incorrectamente. Para mostrarla utilizamos <code>ConfusionMatrixDisplay</code> (<a href=\"https://scikit-learn.org/stable/modules/generated/sklearn.metrics.ConfusionMatrixDisplay.html\">documentación</a>).\n",
    "\n",
    "<img src=\"img/confusion_matrix.png\" style=\"max-width:700px;\">\n"
   ]
  },
  {
   "cell_type": "code",
   "execution_count": 115,
   "metadata": {},
   "outputs": [],
   "source": [
    "cm_kNN = confusion_matrix(y_test, y_predict_knn, labels=[2,4])\n"
   ]
  },
  {
   "cell_type": "code",
   "execution_count": 116,
   "metadata": {},
   "outputs": [
    {
     "data": {
      "text/plain": [
       "array([[86,  4],\n",
       "       [ 0, 47]], dtype=int64)"
      ]
     },
     "execution_count": 116,
     "metadata": {},
     "output_type": "execute_result"
    }
   ],
   "source": [
    "cm_kNN"
   ]
  },
  {
   "cell_type": "code",
   "execution_count": 117,
   "metadata": {},
   "outputs": [
    {
     "data": {
      "image/png": "[encoded data removed]",
      "text/plain": [
       "<Figure size 640x480 with 2 Axes>"
      ]
     },
     "metadata": {},
     "output_type": "display_data"
    }
   ],
   "source": [
    "\n",
    "disp_knn = ConfusionMatrixDisplay(confusion_matrix=cm_kNN, display_labels=['Benigno(2)','Maligno(4)'])\n",
    "disp_knn.plot(cmap=plt.cm.Blues)\n",
    "plt.title(\"Matriz de confusión k-NN\")\n",
    "plt.show()"
   ]
  },
  {
   "cell_type": "code",
   "execution_count": 118,
   "metadata": {},
   "outputs": [
    {
     "data": {
      "image/png": "[encoded data removed]",
      "text/plain": [
       "<Figure size 640x480 with 2 Axes>"
      ]
     },
     "metadata": {},
     "output_type": "display_data"
    }
   ],
   "source": [
    "cm_svm = confusion_matrix(y_test, y_predict_svm, labels=[2,4])\n",
    "\n",
    "disp_svm = ConfusionMatrixDisplay(confusion_matrix=cm_svm, display_labels=['Benigno(2)','Maligno(4)'])\n",
    "disp_svm.plot(cmap=plt.cm.Blues)\n",
    "plt.title(\"Matriz de confusión SVM\")\n",
    "plt.show()"
   ]
  },
  {
   "cell_type": "markdown",
   "metadata": {},
   "source": [
    "Podemos mostrar varios gráficos en una misma figura. Para ello, vamos a utilizar la función <code>subplots</code>(<a href=\"https://matplotlib.org/stable/api/_as_gen/matplotlib.pyplot.subplots.html\">documentación de la función</a>).\n",
    "\n",
    "De esta forma, mostramos las matrices de confusión para ambos algoritmos:"
   ]
  },
  {
   "cell_type": "code",
   "execution_count": 119,
   "metadata": {},
   "outputs": [
    {
     "data": {
      "image/png": "[encoded data removed]",
      "text/plain": [
       "<Figure size 1500x500 with 4 Axes>"
      ]
     },
     "metadata": {},
     "output_type": "display_data"
    }
   ],
   "source": [
    "fig, axs = plt.subplots(1, 2, figsize=(15,5))\n",
    "axs[0].set_title(\"KNN\")\n",
    "disp_knn.plot(cmap=plt.cm.Blues, ax = axs[0])\n",
    "axs[1].set_title(\"SVM\")\n",
    "disp_svm.plot(cmap=plt.cm.Blues, ax = axs[1])\n",
    "plt.show()"
   ]
  },
  {
   "cell_type": "markdown",
   "metadata": {
    "button": false,
    "deletable": true,
    "new_sheet": false,
    "run_control": {
     "read_only": false
    }
   },
   "source": [
    "<div class=\"alert alert-block alert-info\" \n",
    "     style=\"border: 0px solid #d60e8c; border-radius: 10px; background:#d60e8c; color: white; margin-top:20px;\">\n",
    "      <h2>EJERCICIO 1</h2>\n",
    "    <hr style=\"border: 0.5px solid #ffffff;\">\n",
    "   <ul style=\"margin-bottom: 20px;\">\n",
    "       <li>Crea modelos de k-NN variando el valor de k, desde k=1 hasta k=100, calculando la exactitud de cada modelo, almacenandolos en un array numpy</li>\n",
    "       <li>Muestra cual ha sido el mejor valor de k</li>\n",
    "       <li>Muestra una gráfica con los valores obtenidos para cada k. <br><br>\n",
    "           Ejemplo de gráfica (orientativo, los resultados pueden variar):\n",
    "           <img src=\"img/grafica-k.png\"/>\n",
    "       </li>       \n",
    "    </ul>\n",
    "</div>"
   ]
  },
  {
   "cell_type": "markdown",
   "metadata": {},
   "source": [
    "<h4>Parte1: crear los distintos modelos y calcular su exactitud.</h4>"
   ]
  },
  {
   "cell_type": "code",
   "execution_count": 120,
   "metadata": {
    "button": false,
    "deletable": true,
    "new_sheet": false,
    "run_control": {
     "read_only": false
    }
   },
   "outputs": [
    {
     "name": "stdout",
     "output_type": "stream",
     "text": [
      "Tiempo entrenamiento = 1005.312 ms\n",
      "[0.97810219 0.95620438 0.97080292 0.97080292 0.97080292 0.98540146\n",
      " 0.98540146 0.98540146 0.97080292 0.98540146 0.97080292 0.97080292\n",
      " 0.97080292 0.97810219 0.96350365 0.98540146 0.98540146 0.98540146\n",
      " 0.98540146 0.98540146 0.98540146 0.98540146 0.98540146 0.98540146\n",
      " 0.98540146 0.98540146 0.98540146 0.98540146 0.98540146 0.98540146\n",
      " 0.98540146 0.98540146 0.98540146 0.98540146 0.98540146 0.98540146\n",
      " 0.98540146 0.98540146 0.98540146 0.98540146 0.98540146 0.98540146\n",
      " 0.98540146 0.98540146 0.98540146 0.98540146 0.98540146 0.97810219\n",
      " 0.97810219 0.97810219 0.97810219 0.97810219 0.97810219 0.97810219\n",
      " 0.97810219 0.97810219 0.97810219 0.97810219 0.97810219 0.97810219\n",
      " 0.97810219 0.97810219 0.97810219 0.97810219 0.97810219 0.97810219\n",
      " 0.97810219 0.97810219 0.97810219 0.97810219 0.97810219 0.97810219\n",
      " 0.97810219 0.97810219 0.97810219 0.97810219 0.97810219 0.97810219\n",
      " 0.97810219 0.97810219 0.97810219 0.97810219 0.97810219 0.97810219\n",
      " 0.97810219 0.97810219 0.97810219 0.97810219 0.97810219 0.97810219\n",
      " 0.97810219 0.97810219 0.97810219 0.97810219 0.97810219 0.97810219\n",
      " 0.97810219 0.97810219 0.97810219 0.97810219]\n"
     ]
    }
   ],
   "source": [
    "# Escribe aquí tu código para realizar la primera parte del ejercicio\n",
    "ini = time.time() \n",
    "exatitud = np.zeros(100)\n",
    "for k in range(1,101):\n",
    "    # Creamos nuestra instancia del modelo\n",
    "    neigh = KNeighborsClassifier(n_neighbors = k)\n",
    "\n",
    "    #Entrenamiento del modelo, llamando a su método fit \n",
    "    neigh.fit(X_train,y_train)\n",
    "    \n",
    "    exatitud[(k-1)]= neigh.score(X_test, y_test)\n",
    "\n",
    "print(f\"Tiempo entrenamiento = {(time.time() - ini)*1000:.3f} ms\") \n",
    "print(exatitud) "
   ]
  },
  {
   "cell_type": "markdown",
   "metadata": {},
   "source": [
    "<h4>Parte 2: muestra el mejor valor de k.</h4>\n"
   ]
  },
  {
   "cell_type": "code",
   "execution_count": 121,
   "metadata": {},
   "outputs": [
    {
     "name": "stdout",
     "output_type": "stream",
     "text": [
      "0.9854014598540146\n"
     ]
    }
   ],
   "source": [
    "# Escribe aquí tu código para realizar la segunda parte del ejercicio\n",
    "\n",
    "print(exatitud.max())\n"
   ]
  },
  {
   "cell_type": "markdown",
   "metadata": {
    "button": false,
    "deletable": true,
    "new_sheet": false,
    "run_control": {
     "read_only": false
    }
   },
   "source": [
    "<h4>Parte 3:  Gráfica de la exactitud obtenida con distintos valores de k .</h4>\n",
    "\n"
   ]
  },
  {
   "cell_type": "code",
   "execution_count": 122,
   "metadata": {
    "button": false,
    "deletable": true,
    "new_sheet": false,
    "run_control": {
     "read_only": false
    }
   },
   "outputs": [
    {
     "data": {
      "image/png": "[encoded data removed]",
      "text/plain": [
       "<Figure size 1000x500 with 1 Axes>"
      ]
     },
     "metadata": {},
     "output_type": "display_data"
    }
   ],
   "source": [
    "# Escribe aquí tu código para realizar la tercera parte del ejercicio\n",
    "\n",
    "x_points = np.linspace(1, 100, num=100)\n",
    "\n",
    "\n",
    "# Añade aquí el código necesario para mostrar la gráfica\n",
    "\n",
    "plt.figure(figsize=(10,5))\n",
    "plt.plot(x_points, exatitud, color='red', linestyle=\"-\", linewidth=1, marker = \".\")  # gráfica 1\n",
    "plt.xlabel('Eje x')\n",
    "plt.ylabel('Eje y')\n",
    "plt.show()\n",
    "\n"
   ]
  },
  {
   "cell_type": "markdown",
   "metadata": {},
   "source": [
    "<h3>SVM: Efecto de C y gamma</h3>\n",
    "\n",
    "El parámetro gamma es el inverso de la desviación estándar del kernel RBF (función gaussiana), que se utiliza como medida de similitud entre dos puntos. Un valor gamma pequeño define una función gaussiana con una gran varianza. En este caso, dos puntos pueden considerarse similares aunque estén muy alejados el uno del otro. En cambio, un valor gamma grande significa definir una función gaussiana con una pequeña varianza y en este caso, dos puntos se consideran similares sólo si están cerca el uno del otro. \n",
    "\n",
    "Cuanto más estrechos sean los kernels de RBF (gammas más grandes) más \"puntiagudos\" serán sus hipersuperficies, es decir, tendrían una hipersuperficie cercana a cero en todas partes, excepto que tendrían picos donde están los puntos de datos. Por otro lado, si los kernels RBF son demasiado anchos (pequeños gammas), terminarías con una hipersuperficie casi plana.  \n",
    "\n",
    "El parámetro C permite compensar la correcta clasificación de los ejemplos de formación con la maximización del margen de la función de decisión. Para valores mayores de C, se aceptará un margen menor para clasificar correctamente todos los puntos de formación. Un valor de C más bajo fomentará un margen más grande, por lo tanto una función de decisión más simple, a costa de la exatitud de la formación. En otras palabras, \"C\" se comporta como un parámetro de regularización en el SVM.\n",
    "\n",
    "__El comportamiento del modelo es muy sensible al parámetro gamma__:\n",
    "\n",
    "<ul>\n",
    "    <li>Si el gamma es demasiado grande, ningún valor de C será capaz de evitar el sobreajuste.</li>\n",
    "    <li>\n",
    "        Si gamma es muy pequeño, el modelo no puede captar la complejidad o la \"forma\" de los datos. El modelo resultante se comportará de manera similar a un modelo lineal.</li>\n",
    "    <li>\n",
    "        Para los valores intermedios de gamma, se pueden encontrar buenos modelos. Los modelos suaves (valores gamma más bajos) pueden hacerse más complejos aumentando la importancia de clasificar cada punto correctamente (valores C más grandes).\n",
    "    </li>\n",
    "\n",
    "</ul>"
   ]
  },
  {
   "cell_type": "markdown",
   "metadata": {},
   "source": [
    "<div class=\"alert alert-block alert-info\" \n",
    "     style=\"border: 0px solid #d60e8c; border-radius: 10px; background:#d60e8c; color: white; margin-top:20px;\">\n",
    "      <h2>EJERCICIO 2</h2>\n",
    "    <hr style=\"border: 0.5px solid #ffffff;\">\n",
    "   <ul style=\"margin-bottom: 20px;\">\n",
    "       <li>Crea ahora varios SVM con kernel gausiano ('rbf') variando el valor de C y de gamma (al menos 4 valores de cada uno), entrenando y calculando la exactitud de cada combinación de C y gamma.</li>\n",
    "       <li>¿Qué valores de C y gamma han obtenido el mejor resultado? </li>\n",
    "    </ul>\n",
    "</div>"
   ]
  },
  {
   "cell_type": "code",
   "execution_count": 123,
   "metadata": {},
   "outputs": [
    {
     "name": "stdout",
     "output_type": "stream",
     "text": [
      "Exactitudes:\n",
      "[[0.97080292 0.65693431 0.65693431 0.65693431 0.65693431 0.96350365\n",
      "  0.88321168 0.83211679 0.78832117 0.82481752 0.96350365 0.91240876\n",
      "  0.87591241 0.86131387 0.83211679 0.96350365 0.91240876 0.88321168\n",
      "  0.86861314 0.86861314 0.96350365 0.91240876 0.88321168 0.86861314\n",
      "  0.86861314]\n",
      " [0.01       0.01       0.01       0.01       0.01       0.5075\n",
      "  0.5075     0.5075     0.5075     0.5075     1.005      1.005\n",
      "  1.005      1.005      1.005      1.5025     1.5025     1.5025\n",
      "  1.5025     1.5025     2.         2.         2.         2.\n",
      "  2.        ]\n",
      " [0.01       0.5075     1.005      1.5025     2.         0.01\n",
      "  0.5075     1.005      1.5025     2.         0.01       0.5075\n",
      "  1.005      1.5025     2.         0.01       0.5075     1.005\n",
      "  1.5025     2.         0.01       0.5075     1.005      1.5025\n",
      "  2.        ]]\n",
      "Exactitud maxima:  0.9708029197080292\n",
      "Valor C:  0.01\n",
      "Valor g:  0.01\n"
     ]
    }
   ],
   "source": [
    "## Pon aquí tu código para realizar el ejercicio 2\n",
    "valores = 5\n",
    "valorc = np.linspace(0.01, 2, num = valores)\n",
    "valorg = np.linspace(0.01, 2, num = valores)\n",
    "exatitudsvm = np.array([np.zeros(valores * valores), np.zeros(valores * valores),np.zeros(valores * valores)])\n",
    "k=0\n",
    "\n",
    "for i in valorc:\n",
    "    for j in valorg:\n",
    "        # Creamos nuestra instancia del modelo\n",
    "        clf_svm = svm.SVC(kernel='rbf',C=i,gamma=j)\n",
    "\n",
    "        ini = time.time() \n",
    "\n",
    "        #Entrenamiento del modelo, llamando a su método fit \n",
    "        clf_svm.fit(X_train, y_train) \n",
    "        k=k+1\n",
    "\n",
    "        #Exactitud \n",
    "        exatitudsvm [0] [(k-1)] = clf_svm.score(X_test, y_test)\n",
    "        exatitudsvm [1] [(k-1)] = i\n",
    "        exatitudsvm [2] [(k-1)] = j\n",
    "        \n",
    "        \n",
    "print(\"Exactitudes:\")\n",
    "print(exatitudsvm)\n",
    "\n",
    "max = exatitudsvm[0].max()\n",
    "print(\"Exactitud maxima: \", max)\n",
    "\n",
    "k=0\n",
    "\n",
    "for i in valorc:\n",
    "    for j in valorg:\n",
    "        if exatitudsvm [0] [(k-1)] == max:\n",
    "            print(\"Valor C: \", exatitudsvm [1] [(k-1)])\n",
    "            print(\"Valor g: \", exatitudsvm [2] [(k-1)])\n",
    "        k=k+1"
   ]
  },
  {
   "cell_type": "markdown",
   "metadata": {},
   "source": [
    "<a name=\"save_load\"></a>\n",
    "# <font style=\"color:#d60e8c;\">Guardar y cargar un modelo</font>\n",
    "<hr style=\"border: 0.5px solid #d60e8c;\">\n",
    "\n",
    "Podemos guardar un modelo entrenado para usarlo para hacer predicciones.\n",
    "\n",
    "El siguiente bloque de código, entrena un modelo <code>SVM</code> y lo guarda en un fichero.\n"
   ]
  },
  {
   "cell_type": "code",
   "execution_count": 124,
   "metadata": {},
   "outputs": [
    {
     "name": "stdout",
     "output_type": "stream",
     "text": [
      "Exactitud del modelo:  0.9635036496350365\n"
     ]
    },
    {
     "data": {
      "text/plain": [
       "['svm_cell_samples.joblib']"
      ]
     },
     "execution_count": 124,
     "metadata": {},
     "output_type": "execute_result"
    }
   ],
   "source": [
    "from joblib import dump, load\n",
    "\n",
    "clf_to_save = svm.SVC(kernel='rbf', gamma=0.1)\n",
    "clf_to_save.fit(X_train, y_train)\n",
    "print(\"Exactitud del modelo: \", clf_to_save.score(X_test,y_test))\n",
    "\n",
    "dump(clf_to_save, 'svm_cell_samples.joblib') "
   ]
  },
  {
   "cell_type": "markdown",
   "metadata": {},
   "source": [
    "<br/>\n",
    "En siguiente bloque de código, carga el modelo guardado previamente y lo utiliza para realizar predicciones:"
   ]
  },
  {
   "cell_type": "code",
   "execution_count": 125,
   "metadata": {},
   "outputs": [
    {
     "data": {
      "text/plain": [
       "array([2, 4, 2, 4, 2], dtype=int64)"
      ]
     },
     "execution_count": 125,
     "metadata": {},
     "output_type": "execute_result"
    }
   ],
   "source": [
    "clf_loaded = load('svm_cell_samples.joblib') \n",
    "\n",
    "clf_loaded.predict(X_test[0:5]) # Predicción de los cinco primeros valores del conjunto de datos de test"
   ]
  },
  {
   "cell_type": "markdown",
   "metadata": {
    "tags": []
   },
   "source": [
    "<div class=\"alert alert-block alert-info\" \n",
    "     style=\"border: 0px solid #d60e8c; border-radius: 10px; background:#d60e8c; color: white; margin-top:20px;\">\n",
    "      <h2>EJERCICIO 3</h2>\n",
    "    <hr style=\"border: 0.5px solid #ffffff;\">\n",
    "    Utiliza ahora el algoritmo <b>DecisionTreeClassifier</b> de <b>scikit-learn</b> (<a href=\"https://scikit-learn.org/stable/modules/generated/sklearn.tree.DecisionTreeClassifier.html\">documentación del algoritmo</a>) sobre el mismo conjunto de datos:\n",
    "   <ul style=\"margin-bottom: 20px;\">\n",
    "       <li>Configura el modelo con los parámetros que consideres</li>       \n",
    "       <li>Entrénalo y guarda en un archivo el modelo entrenado</li>       \n",
    "       <li>Muestra una figura con el arbol generado</li>       \n",
    "       <li>Calcula y muestra la exactitud del modelo (score)</li>\n",
    "       <li>Carga el modelo guardado y utilízalo para realizar la predicción sobre los 5 primeros registros del conjunto de datos de test</li>\n",
    "    </ul>\n",
    "</div>"
   ]
  },
  {
   "cell_type": "code",
   "execution_count": null,
   "metadata": {},
   "outputs": [
    {
     "data": {
      "text/plain": [
       "['modelo_tree_guardado.joblib']"
      ]
     },
     "execution_count": 147,
     "metadata": {},
     "output_type": "execute_result"
    }
   ],
   "source": [
    "## Pon aquí tu código para realizar el ejercicio 3 - puedes crear celdas adidionales si lo necesitas\n",
    "from sklearn import tree\n",
    "\n",
    "# Creamos nuestra instancia del modelo\n",
    "modelo_tree = tree.DecisionTreeClassifier()\n",
    "\n",
    "#Entrenamiento del modelo, llamando a su método fit \n",
    "modelo_tree.fit(X_train, y_train)\n",
    "\n",
    "#Guarda el modelo  entrenado en un archivo\n",
    "dump(modelo_tree, 'modelo_tree_guardado.joblib')\n"
   ]
  },
  {
   "cell_type": "code",
   "execution_count": null,
   "metadata": {},
   "outputs": [
    {
     "data": {
      "text/plain": [
       "[Text(0.42418032786885246, 0.9545454545454546, 'x[1] <= 2.5\\ngini = 0.456\\nsamples = 546\\nvalue = [354, 192]'),\n",
       " Text(0.2459016393442623, 0.8636363636363636, 'x[5] <= 5.5\\ngini = 0.069\\nsamples = 337\\nvalue = [325, 12]'),\n",
       " Text(0.16393442622950818, 0.7727272727272727, 'x[0] <= 6.5\\ngini = 0.03\\nsamples = 329\\nvalue = [324, 5]'),\n",
       " Text(0.09836065573770492, 0.6818181818181818, 'x[7] <= 9.0\\ngini = 0.012\\nsamples = 324\\nvalue = [322, 2]'),\n",
       " Text(0.06557377049180328, 0.5909090909090909, 'x[5] <= 4.5\\ngini = 0.006\\nsamples = 323\\nvalue = [322, 1]'),\n",
       " Text(0.03278688524590164, 0.5, 'gini = 0.0\\nsamples = 317\\nvalue = [317, 0]'),\n",
       " Text(0.09836065573770492, 0.5, 'x[3] <= 2.0\\ngini = 0.278\\nsamples = 6\\nvalue = [5, 1]'),\n",
       " Text(0.06557377049180328, 0.4090909090909091, 'gini = 0.0\\nsamples = 5\\nvalue = [5, 0]'),\n",
       " Text(0.13114754098360656, 0.4090909090909091, 'gini = 0.0\\nsamples = 1\\nvalue = [0, 1]'),\n",
       " Text(0.13114754098360656, 0.5909090909090909, 'gini = 0.0\\nsamples = 1\\nvalue = [0, 1]'),\n",
       " Text(0.22950819672131148, 0.6818181818181818, 'x[6] <= 2.5\\ngini = 0.48\\nsamples = 5\\nvalue = [2, 3]'),\n",
       " Text(0.19672131147540983, 0.5909090909090909, 'gini = 0.0\\nsamples = 2\\nvalue = [2, 0]'),\n",
       " Text(0.26229508196721313, 0.5909090909090909, 'gini = 0.0\\nsamples = 3\\nvalue = [0, 3]'),\n",
       " Text(0.32786885245901637, 0.7727272727272727, 'x[0] <= 2.5\\ngini = 0.219\\nsamples = 8\\nvalue = [1, 7]'),\n",
       " Text(0.29508196721311475, 0.6818181818181818, 'gini = 0.0\\nsamples = 1\\nvalue = [1, 0]'),\n",
       " Text(0.36065573770491804, 0.6818181818181818, 'gini = 0.0\\nsamples = 7\\nvalue = [0, 7]'),\n",
       " Text(0.6024590163934426, 0.8636363636363636, 'x[2] <= 2.5\\ngini = 0.239\\nsamples = 209\\nvalue = [29, 180]'),\n",
       " Text(0.45901639344262296, 0.7727272727272727, 'x[0] <= 5.5\\ngini = 0.332\\nsamples = 19\\nvalue = [15, 4]'),\n",
       " Text(0.4262295081967213, 0.6818181818181818, 'gini = 0.0\\nsamples = 15\\nvalue = [15, 0]'),\n",
       " Text(0.4918032786885246, 0.6818181818181818, 'gini = 0.0\\nsamples = 4\\nvalue = [0, 4]'),\n",
       " Text(0.7459016393442623, 0.7727272727272727, 'x[1] <= 4.5\\ngini = 0.137\\nsamples = 190\\nvalue = [14, 176]'),\n",
       " Text(0.5573770491803278, 0.6818181818181818, 'x[5] <= 7.5\\ngini = 0.357\\nsamples = 56\\nvalue = [13, 43]'),\n",
       " Text(0.4426229508196721, 0.5909090909090909, 'x[7] <= 1.5\\ngini = 0.488\\nsamples = 26\\nvalue = [11, 15]'),\n",
       " Text(0.4098360655737705, 0.5, 'gini = 0.0\\nsamples = 5\\nvalue = [5, 0]'),\n",
       " Text(0.47540983606557374, 0.5, 'x[7] <= 8.5\\ngini = 0.408\\nsamples = 21\\nvalue = [6, 15]'),\n",
       " Text(0.4426229508196721, 0.4090909090909091, 'x[7] <= 5.5\\ngini = 0.49\\nsamples = 14\\nvalue = [6, 8]'),\n",
       " Text(0.4098360655737705, 0.3181818181818182, 'x[6] <= 6.5\\ngini = 0.397\\nsamples = 11\\nvalue = [3, 8]'),\n",
       " Text(0.3770491803278688, 0.22727272727272727, 'x[3] <= 2.0\\ngini = 0.32\\nsamples = 10\\nvalue = [2, 8]'),\n",
       " Text(0.3442622950819672, 0.13636363636363635, 'x[5] <= 2.5\\ngini = 0.5\\nsamples = 4\\nvalue = [2, 2]'),\n",
       " Text(0.3114754098360656, 0.045454545454545456, 'gini = 0.0\\nsamples = 2\\nvalue = [2, 0]'),\n",
       " Text(0.3770491803278688, 0.045454545454545456, 'gini = 0.0\\nsamples = 2\\nvalue = [0, 2]'),\n",
       " Text(0.4098360655737705, 0.13636363636363635, 'gini = 0.0\\nsamples = 6\\nvalue = [0, 6]'),\n",
       " Text(0.4426229508196721, 0.22727272727272727, 'gini = 0.0\\nsamples = 1\\nvalue = [1, 0]'),\n",
       " Text(0.47540983606557374, 0.3181818181818182, 'gini = 0.0\\nsamples = 3\\nvalue = [3, 0]'),\n",
       " Text(0.5081967213114754, 0.4090909090909091, 'gini = 0.0\\nsamples = 7\\nvalue = [0, 7]'),\n",
       " Text(0.6721311475409836, 0.5909090909090909, 'x[4] <= 6.5\\ngini = 0.124\\nsamples = 30\\nvalue = [2, 28]'),\n",
       " Text(0.6065573770491803, 0.5, 'x[8] <= 2.5\\ngini = 0.069\\nsamples = 28\\nvalue = [1, 27]'),\n",
       " Text(0.5737704918032787, 0.4090909090909091, 'gini = 0.0\\nsamples = 25\\nvalue = [0, 25]'),\n",
       " Text(0.639344262295082, 0.4090909090909091, 'x[0] <= 8.0\\ngini = 0.444\\nsamples = 3\\nvalue = [1, 2]'),\n",
       " Text(0.6065573770491803, 0.3181818181818182, 'gini = 0.0\\nsamples = 1\\nvalue = [1, 0]'),\n",
       " Text(0.6721311475409836, 0.3181818181818182, 'gini = 0.0\\nsamples = 2\\nvalue = [0, 2]'),\n",
       " Text(0.7377049180327869, 0.5, 'x[4] <= 7.5\\ngini = 0.5\\nsamples = 2\\nvalue = [1, 1]'),\n",
       " Text(0.7049180327868853, 0.4090909090909091, 'gini = 0.0\\nsamples = 1\\nvalue = [1, 0]'),\n",
       " Text(0.7704918032786885, 0.4090909090909091, 'gini = 0.0\\nsamples = 1\\nvalue = [0, 1]'),\n",
       " Text(0.9344262295081968, 0.6818181818181818, 'x[3] <= 1.5\\ngini = 0.015\\nsamples = 134\\nvalue = [1, 133]'),\n",
       " Text(0.9016393442622951, 0.5909090909090909, 'x[0] <= 7.0\\ngini = 0.219\\nsamples = 8\\nvalue = [1, 7]'),\n",
       " Text(0.8688524590163934, 0.5, 'x[5] <= 2.5\\ngini = 0.5\\nsamples = 2\\nvalue = [1, 1]'),\n",
       " Text(0.8360655737704918, 0.4090909090909091, 'gini = 0.0\\nsamples = 1\\nvalue = [0, 1]'),\n",
       " Text(0.9016393442622951, 0.4090909090909091, 'gini = 0.0\\nsamples = 1\\nvalue = [1, 0]'),\n",
       " Text(0.9344262295081968, 0.5, 'gini = 0.0\\nsamples = 6\\nvalue = [0, 6]'),\n",
       " Text(0.9672131147540983, 0.5909090909090909, 'gini = 0.0\\nsamples = 126\\nvalue = [0, 126]')]"
      ]
     },
     "execution_count": 148,
     "metadata": {},
     "output_type": "execute_result"
    },
    {
     "data": {
      "image/png": "[encoded data removed]",
      "text/plain": [
       "<Figure size 640x480 with 1 Axes>"
      ]
     },
     "metadata": {},
     "output_type": "display_data"
    }
   ],
   "source": [
    "\n",
    "tree.plot_tree(modelo_tree)\n",
    "\n"
   ]
  },
  {
   "cell_type": "code",
   "execution_count": null,
   "metadata": {},
   "outputs": [
    {
     "ename": "AttributeError",
     "evalue": "'KNeighborsClassifier' object has no attribute 'decision_path'",
     "output_type": "error",
     "traceback": [
      "\u001b[1;31m---------------------------------------------------------------------------\u001b[0m",
      "\u001b[1;31mAttributeError\u001b[0m                            Traceback (most recent call last)",
      "Cell \u001b[1;32mIn[136], line 2\u001b[0m\n\u001b[0;32m      1\u001b[0m modelo_tree_loaded \u001b[38;5;241m=\u001b[39m load(\u001b[38;5;124m'\u001b[39m\u001b[38;5;124mmodelo_tree_guardado.joblib\u001b[39m\u001b[38;5;124m'\u001b[39m) \n\u001b[1;32m----> 2\u001b[0m \u001b[43mmodelo_tree_loaded\u001b[49m\u001b[38;5;241;43m.\u001b[39;49m\u001b[43mdecision_path\u001b[49m(X_test[\u001b[38;5;241m0\u001b[39m:\u001b[38;5;241m5\u001b[39m])\n",
      "\u001b[1;31mAttributeError\u001b[0m: 'KNeighborsClassifier' object has no attribute 'decision_path'"
     ]
    }
   ],
   "source": [
    "modelo_tree_loaded = load('modelo_tree_guardado.joblib') \n",
    "modelo_tree_loaded.\n",
    "disp_knn.plot(cmap=plt.cm.Blues)\n",
    "plt.title(\"Matriz de confusión k-NN\")\n",
    "plt.show()\n",
    "\n",
    "modelo_tree.get_params()\n",
    "modelo_tree.kneighbors_graph()\n",
    "modelo_tree.\n",
    "plt.title(\"Matriz de confusión k-NN\")\n",
    "plt.show()"
   ]
  },
  {
   "cell_type": "code",
   "execution_count": 133,
   "metadata": {},
   "outputs": [
    {
     "data": {
      "text/plain": [
       "array([2, 4, 2, 4, 2], dtype=int64)"
      ]
     },
     "execution_count": 133,
     "metadata": {},
     "output_type": "execute_result"
    }
   ],
   "source": [
    "modelo_tree_loaded = load('modelo_tree_guardado.joblib') \n",
    "\n",
    "modelo_tree_loaded.predict(X_test[0:5]) # Predicción de los cinco primeros valores del conjunto de datos de test"
   ]
  },
  {
   "cell_type": "markdown",
   "metadata": {
    "button": false,
    "deletable": true,
    "new_sheet": false,
    "run_control": {
     "read_only": false
    }
   },
   "source": [
    "<br/><br/>\n",
    "<hr style=\"border: 0.5px solid #d60e8c;\">\n",
    "<div style=\"text-align:right;\">\n",
    "MASTER UNIVERSITARIO EN INGENIERÍA INDUSTRIAL\n",
    "</div>"
   ]
  }
 ],
 "metadata": {
  "kernelspec": {
   "display_name": "Python 3",
   "language": "python",
   "name": "python3"
  },
  "language_info": {
   "codemirror_mode": {
    "name": "ipython",
    "version": 3
   },
   "file_extension": ".py",
   "mimetype": "text/x-python",
   "name": "python",
   "nbconvert_exporter": "python",
   "pygments_lexer": "ipython3",
   "version": "3.11.5"
  }
 },
 "nbformat": 4,
 "nbformat_minor": 4
}
